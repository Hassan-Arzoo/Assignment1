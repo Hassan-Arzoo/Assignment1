{
 "cells": [
  {
   "cell_type": "code",
   "execution_count": null,
   "id": "d0ac1614-ee7f-455b-aa5e-562beceb2d84",
   "metadata": {},
   "outputs": [],
   "source": [
    "#All question are Solved but not arranged number  "
   ]
  },
  {
   "cell_type": "code",
   "execution_count": 10,
   "id": "947621ea-31bd-4b9c-b0ce-04a9072bdc05",
   "metadata": {},
   "outputs": [],
   "source": [
    "#Q1. Create one variable containing following type of data:\n",
    "\n",
    "#(i)\tstring\n",
    "\n",
    "#(ii)\tlist\n",
    "\n",
    "#(iii)\tfloat\n",
    "\n",
    "#(iv)\ttuple\n",
    "\n",
    "\n",
    "\n",
    "\n",
    "a=\"Hassan Arzoo\""
   ]
  },
  {
   "cell_type": "code",
   "execution_count": 11,
   "id": "f71ee5cf-f7cf-4ea7-88db-c8f1e4ac7cc9",
   "metadata": {},
   "outputs": [
    {
     "data": {
      "text/plain": [
       "'Hassan Arzoo'"
      ]
     },
     "execution_count": 11,
     "metadata": {},
     "output_type": "execute_result"
    }
   ],
   "source": [
    "a\n"
   ]
  },
  {
   "cell_type": "code",
   "execution_count": 12,
   "id": "1d23e6ca-9ad5-46dc-8f79-6144039bef9b",
   "metadata": {},
   "outputs": [],
   "source": [
    "b=[1,2,3,4,5]"
   ]
  },
  {
   "cell_type": "code",
   "execution_count": 13,
   "id": "6b9df340-69ea-4cda-a52c-97eecabd2b82",
   "metadata": {},
   "outputs": [
    {
     "data": {
      "text/plain": [
       "[1, 2, 3, 4, 5]"
      ]
     },
     "execution_count": 13,
     "metadata": {},
     "output_type": "execute_result"
    }
   ],
   "source": [
    "b"
   ]
  },
  {
   "cell_type": "code",
   "execution_count": 14,
   "id": "5bb0e9a6-457e-4496-bf81-d31d83872869",
   "metadata": {},
   "outputs": [],
   "source": [
    "c=3.67"
   ]
  },
  {
   "cell_type": "code",
   "execution_count": 15,
   "id": "4b9383af-0d27-435a-af97-1237782c6ae9",
   "metadata": {},
   "outputs": [
    {
     "data": {
      "text/plain": [
       "3.67"
      ]
     },
     "execution_count": 15,
     "metadata": {},
     "output_type": "execute_result"
    }
   ],
   "source": [
    "c\n"
   ]
  },
  {
   "cell_type": "code",
   "execution_count": 16,
   "id": "fb002178-ffc3-4c47-800d-9271d60712d0",
   "metadata": {},
   "outputs": [],
   "source": [
    "tuple=(1,2,3,4,5)"
   ]
  },
  {
   "cell_type": "code",
   "execution_count": 17,
   "id": "79f1503a-8233-4226-b5a4-42a8f9071d99",
   "metadata": {},
   "outputs": [
    {
     "data": {
      "text/plain": [
       "(1, 2, 3, 4, 5)"
      ]
     },
     "execution_count": 17,
     "metadata": {},
     "output_type": "execute_result"
    }
   ],
   "source": [
    "tuple\n"
   ]
  },
  {
   "cell_type": "code",
   "execution_count": null,
   "id": "41d9a533-52fd-4718-a83d-e993e863fb64",
   "metadata": {},
   "outputs": [],
   "source": [
    "#Q2. Given are some following variables containing data:\n",
    "#(i)  var1 = ‘ ‘\n",
    "#(ii) var2 = ‘[ DS , ML , Python]’\n",
    "#(iii) var3 = [ ‘DS’ , ’ML’ , ‘Python’ ]\n",
    "#(iv) var4 = 1.\n",
    "#What will be the data type of the above given variable."
   ]
  },
  {
   "cell_type": "code",
   "execution_count": 18,
   "id": "4e8d8937-bc3c-4b40-a339-643b4a020fe8",
   "metadata": {},
   "outputs": [],
   "source": [
    "var1=' '"
   ]
  },
  {
   "cell_type": "code",
   "execution_count": 20,
   "id": "8fac16cc-7810-4e9e-86ab-ae479d462e91",
   "metadata": {},
   "outputs": [
    {
     "data": {
      "text/plain": [
       "str"
      ]
     },
     "execution_count": 20,
     "metadata": {},
     "output_type": "execute_result"
    }
   ],
   "source": [
    "type(var1)\n"
   ]
  },
  {
   "cell_type": "code",
   "execution_count": 21,
   "id": "f18faced-8c24-4862-b2a4-5c4c67f579c5",
   "metadata": {},
   "outputs": [],
   "source": [
    "var2='[DS,ML,Python]'"
   ]
  },
  {
   "cell_type": "code",
   "execution_count": 22,
   "id": "f2fc5551-b632-4f4a-9251-8a009be9bc4d",
   "metadata": {},
   "outputs": [
    {
     "data": {
      "text/plain": [
       "'[DS,ML,Python]'"
      ]
     },
     "execution_count": 22,
     "metadata": {},
     "output_type": "execute_result"
    }
   ],
   "source": [
    "var2"
   ]
  },
  {
   "cell_type": "code",
   "execution_count": 23,
   "id": "86f500fb-4506-4ff7-9ec1-d130670d7a7a",
   "metadata": {},
   "outputs": [
    {
     "data": {
      "text/plain": [
       "str"
      ]
     },
     "execution_count": 23,
     "metadata": {},
     "output_type": "execute_result"
    }
   ],
   "source": [
    "type(var2)"
   ]
  },
  {
   "cell_type": "code",
   "execution_count": 2,
   "id": "63a3345d-c58f-4dcc-a1fa-a0fb97c2d500",
   "metadata": {},
   "outputs": [],
   "source": [
    "var3 = [ 'DS' , 'ML' , 'Python' ]"
   ]
  },
  {
   "cell_type": "code",
   "execution_count": 3,
   "id": "f08648be-66ac-4114-bcbb-532ec8b9e1d3",
   "metadata": {},
   "outputs": [
    {
     "data": {
      "text/plain": [
       "list"
      ]
     },
     "execution_count": 3,
     "metadata": {},
     "output_type": "execute_result"
    }
   ],
   "source": [
    "type(var3)"
   ]
  },
  {
   "cell_type": "code",
   "execution_count": 4,
   "id": "d55997a0-70e7-44f5-8ca4-c0e69c743810",
   "metadata": {},
   "outputs": [],
   "source": [
    "var4=1\n"
   ]
  },
  {
   "cell_type": "code",
   "execution_count": 5,
   "id": "4efbc18d-3223-4d49-b0e1-dfeb31d788d8",
   "metadata": {},
   "outputs": [
    {
     "data": {
      "text/plain": [
       "int"
      ]
     },
     "execution_count": 5,
     "metadata": {},
     "output_type": "execute_result"
    }
   ],
   "source": [
    "type(var4)"
   ]
  },
  {
   "cell_type": "code",
   "execution_count": null,
   "id": "c5bc60fe-f424-4804-b832-1cafbca5ba27",
   "metadata": {},
   "outputs": [],
   "source": [
    "#Q3. Explain the use of the following operators using an example:\n",
    "\n",
    "#(i)\t/\n",
    "\n",
    "#(ii)\t% \n",
    "\n",
    "#(iii)\t//\n",
    "\n",
    "#(iv)\t**"
   ]
  },
  {
   "cell_type": "code",
   "execution_count": null,
   "id": "e1407884-d6e3-4e58-b93d-fb4d297f0120",
   "metadata": {},
   "outputs": [],
   "source": [
    "#/- It is divisiblity Operator\n",
    "#%- It is Modulus Operator\n",
    "#//-It is Floor division\n",
    "#**-It is Exponentiation \n",
    "\n"
   ]
  },
  {
   "cell_type": "code",
   "execution_count": 6,
   "id": "61ac45ce-03c4-4ef3-bbee-457f824a0c45",
   "metadata": {},
   "outputs": [
    {
     "data": {
      "text/plain": [
       "0.75"
      ]
     },
     "execution_count": 6,
     "metadata": {},
     "output_type": "execute_result"
    }
   ],
   "source": [
    "3/4"
   ]
  },
  {
   "cell_type": "code",
   "execution_count": 7,
   "id": "d7efbec1-6726-426a-ad36-ffac47f938c2",
   "metadata": {},
   "outputs": [
    {
     "data": {
      "text/plain": [
       "3"
      ]
     },
     "execution_count": 7,
     "metadata": {},
     "output_type": "execute_result"
    }
   ],
   "source": [
    "3%4"
   ]
  },
  {
   "cell_type": "code",
   "execution_count": 8,
   "id": "e3239607-fc7d-4ddd-961f-fedf1a217b6b",
   "metadata": {},
   "outputs": [
    {
     "data": {
      "text/plain": [
       "0"
      ]
     },
     "execution_count": 8,
     "metadata": {},
     "output_type": "execute_result"
    }
   ],
   "source": [
    "3//4"
   ]
  },
  {
   "cell_type": "code",
   "execution_count": 9,
   "id": "bb52e8d2-47ab-4cc8-b8d4-fe908dd62d8f",
   "metadata": {},
   "outputs": [
    {
     "data": {
      "text/plain": [
       "9"
      ]
     },
     "execution_count": 9,
     "metadata": {},
     "output_type": "execute_result"
    }
   ],
   "source": [
    "3**2\n",
    "#3*3=9"
   ]
  },
  {
   "cell_type": "code",
   "execution_count": null,
   "id": "e1888bc7-261e-4e08-be7d-16e282d1c046",
   "metadata": {},
   "outputs": [],
   "source": [
    "#Q6. Create a list containing 25 int type data. Using for loop and if-else condition print if the element is \n",
    "#divisible by 3 or not."
   ]
  },
  {
   "cell_type": "code",
   "execution_count": 6,
   "id": "f7348912-6afb-468e-a877-18b023e32ece",
   "metadata": {},
   "outputs": [],
   "source": [
    "z=[1,2,3,4,5,6,7,8,9,10,11,12,13,14,15,16,17,18,19,20,21,22,23,24,25]\n"
   ]
  },
  {
   "cell_type": "code",
   "execution_count": 7,
   "id": "8cd77d9f-0d9e-4a52-a62c-b270b3d2a18e",
   "metadata": {},
   "outputs": [
    {
     "data": {
      "text/plain": [
       "[1,\n",
       " 2,\n",
       " 3,\n",
       " 4,\n",
       " 5,\n",
       " 6,\n",
       " 7,\n",
       " 8,\n",
       " 9,\n",
       " 10,\n",
       " 11,\n",
       " 12,\n",
       " 13,\n",
       " 14,\n",
       " 15,\n",
       " 16,\n",
       " 17,\n",
       " 18,\n",
       " 19,\n",
       " 20,\n",
       " 21,\n",
       " 22,\n",
       " 23,\n",
       " 24,\n",
       " 25]"
      ]
     },
     "execution_count": 7,
     "metadata": {},
     "output_type": "execute_result"
    }
   ],
   "source": [
    "z\n"
   ]
  },
  {
   "cell_type": "code",
   "execution_count": 10,
   "id": "4a7513ce-de14-4fe6-a168-96ef7a986ab0",
   "metadata": {},
   "outputs": [
    {
     "name": "stdout",
     "output_type": "stream",
     "text": [
      "1 not divisible by 3\n",
      "2 not divisible by 3\n",
      "3 divisible by 3\n",
      "4 not divisible by 3\n",
      "5 not divisible by 3\n",
      "6 divisible by 3\n",
      "7 not divisible by 3\n",
      "8 not divisible by 3\n",
      "9 divisible by 3\n",
      "0 divisible by 3\n"
     ]
    }
   ],
   "source": [
    "for e in l:\n",
    "    if e%3==0:\n",
    "        print(e,\"divisible by 3\")\n",
    "        \n",
    "    else: \n",
    "        print(e,\"not divisible by 3\")"
   ]
  },
  {
   "cell_type": "code",
   "execution_count": 11,
   "id": "84b9a98f-6194-488e-873e-761e0e77d355",
   "metadata": {},
   "outputs": [],
   "source": [
    "#Q5. Using a while loop, verify if the number A is purely divisible by number B and if so then how many \n",
    "#times it can be divisible"
   ]
  },
  {
   "cell_type": "code",
   "execution_count": 16,
   "id": "a422b911-a808-4407-8f47-3246bcb90b3e",
   "metadata": {},
   "outputs": [
    {
     "name": "stdin",
     "output_type": "stream",
     "text": [
      " 9\n",
      " 3\n"
     ]
    },
    {
     "name": "stdout",
     "output_type": "stream",
     "text": [
      "9 is divisbile by  3  and number of times it is divisble is  2\n"
     ]
    }
   ],
   "source": [
    "A=D=int(input())\n",
    "B=int(input())\n",
    "\n",
    "count = 0;\n",
    "while(A%B==0):\n",
    "    count += 1\n",
    "    A = A/B\n",
    "    \n",
    "print(D ,'is divisbile by ',B,\" and number of times it is divisble is \" ,count)"
   ]
  },
  {
   "cell_type": "code",
   "execution_count": 1,
   "id": "95117fce-3715-42b7-afe3-0c1a91fb9d42",
   "metadata": {},
   "outputs": [],
   "source": [
    "#Q7. What do you understand about mutable and immutable data types? Give examples for both showing \n",
    "#this property.\n"
   ]
  },
  {
   "cell_type": "code",
   "execution_count": null,
   "id": "b8498270-99c7-45fc-972c-10fe046ee510",
   "metadata": {},
   "outputs": [],
   "source": [
    "Mutable                                                                              \tImmutable\n",
    "The objects can be modified after the creation as well.\t                Objects can not be modified after the creation of the objects.\n",
    "Classes that are mutable are not considered final.\t                    Classes that are immutable are considered final.\n",
    "Thread unsafe.\tThread-safe.                                       \n",
    "Classes are not made final for the mutable objects.\t                    Classes are made final for the immutable objects.\n",
    "Example: Lists, Dicts, Sets, User-Defined Classes, Dictionaries, etc.\tExample: int, float, bool, string, Unicode, tuple, Numbers, etc."
   ]
  },
  {
   "cell_type": "code",
   "execution_count": 13,
   "id": "3337b8dd-6bf8-4a62-b11b-c272da2487a6",
   "metadata": {},
   "outputs": [],
   "source": [
    "##Q4. Create a list of length 10 of your choice containing multiple types of data. Using for loop print the \n",
    "#element and its data type"
   ]
  },
  {
   "cell_type": "code",
   "execution_count": 17,
   "id": "e0358868-0314-49f4-874f-cc37ae3cdf4e",
   "metadata": {},
   "outputs": [],
   "source": [
    "l=[1,\"a\",3+4j,2,True,False,6,7,8.63,85]"
   ]
  },
  {
   "cell_type": "code",
   "execution_count": 19,
   "id": "bf4378ad-35cc-421b-9459-558e599d4ddd",
   "metadata": {},
   "outputs": [
    {
     "name": "stdout",
     "output_type": "stream",
     "text": [
      "1 <class 'int'>\n",
      "a <class 'str'>\n",
      "(3+4j) <class 'complex'>\n",
      "2 <class 'int'>\n",
      "True <class 'bool'>\n",
      "False <class 'bool'>\n",
      "6 <class 'int'>\n",
      "7 <class 'int'>\n",
      "8.63 <class 'float'>\n",
      "85 <class 'int'>\n"
     ]
    }
   ],
   "source": [
    "for e in l :\n",
    "    print(e,type(e))\n",
    "          "
   ]
  },
  {
   "cell_type": "code",
   "execution_count": null,
   "id": "f9ad94af-4aea-47f3-8164-f7b0d3116b3b",
   "metadata": {},
   "outputs": [],
   "source": []
  }
 ],
 "metadata": {
  "kernelspec": {
   "display_name": "Python 3 (ipykernel)",
   "language": "python",
   "name": "python3"
  },
  "language_info": {
   "codemirror_mode": {
    "name": "ipython",
    "version": 3
   },
   "file_extension": ".py",
   "mimetype": "text/x-python",
   "name": "python",
   "nbconvert_exporter": "python",
   "pygments_lexer": "ipython3",
   "version": "3.10.8"
  }
 },
 "nbformat": 4,
 "nbformat_minor": 5
}
